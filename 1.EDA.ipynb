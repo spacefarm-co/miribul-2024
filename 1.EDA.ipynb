{
 "cells": [
  {
   "cell_type": "markdown",
   "id": "b27f6090-1f87-4818-8e49-151ecf7e7793",
   "metadata": {},
   "source": [
    "# EDA"
   ]
  },
  {
   "cell_type": "markdown",
   "id": "653004f1-2b6f-4f04-a35f-4268bcab8b3b",
   "metadata": {},
   "source": [
    "## 원시데이터 EDA실시"
   ]
  },
  {
   "cell_type": "code",
   "execution_count": null,
   "id": "fdc5ae5e-6893-4fc9-96bd-815ab0727609",
   "metadata": {},
   "outputs": [],
   "source": []
  },
  {
   "cell_type": "markdown",
   "id": "083c665d-6703-4af2-ad1c-6dbc4a031fe1",
   "metadata": {},
   "source": [
    "### 각 원시데이터별 기초 통계치"
   ]
  },
  {
   "cell_type": "code",
   "execution_count": null,
   "id": "04f4c60a-ac39-4488-bba3-29d5565750cf",
   "metadata": {},
   "outputs": [],
   "source": []
  },
  {
   "cell_type": "markdown",
   "id": "408631e0-52e9-447e-b10c-a329b3771d4b",
   "metadata": {},
   "source": [
    "### 결측치에 대한 통계치"
   ]
  },
  {
   "cell_type": "code",
   "execution_count": null,
   "id": "c22219e4-337b-4274-8cfd-35733bc69f63",
   "metadata": {},
   "outputs": [],
   "source": []
  },
  {
   "cell_type": "markdown",
   "id": "0115b4bb-8204-430a-a387-a6f54d418a4f",
   "metadata": {},
   "source": [
    "### 이상치에 대한 통계치"
   ]
  },
  {
   "cell_type": "code",
   "execution_count": null,
   "id": "77ad1ba9-cf54-42ed-9460-f8076fa48afa",
   "metadata": {},
   "outputs": [],
   "source": []
  },
  {
   "cell_type": "markdown",
   "id": "8122aa82-bec8-4fd1-807f-335dbd62eed0",
   "metadata": {},
   "source": [
    "### 변수 시각화"
   ]
  },
  {
   "cell_type": "code",
   "execution_count": null,
   "id": "0dc2e148-c983-414a-98fa-a6a8f20d3623",
   "metadata": {},
   "outputs": [],
   "source": []
  },
  {
   "cell_type": "markdown",
   "id": "149dc741-0956-41c9-9e86-c8d27732330c",
   "metadata": {},
   "source": [
    "### 변수 상관관계분석"
   ]
  },
  {
   "cell_type": "code",
   "execution_count": null,
   "id": "06de6074-b77a-4f59-b710-b3a6668ebd7b",
   "metadata": {},
   "outputs": [],
   "source": []
  }
 ],
 "metadata": {
  "environment": {
   "kernel": "conda-env-tensorflow-tensorflow",
   "name": "workbench-notebooks.m123",
   "type": "gcloud",
   "uri": "us-docker.pkg.dev/deeplearning-platform-release/gcr.io/workbench-notebooks:m123"
  },
  "kernelspec": {
   "display_name": "TensorFlow 2-11 (Local)",
   "language": "python",
   "name": "conda-env-tensorflow-tensorflow"
  },
  "language_info": {
   "codemirror_mode": {
    "name": "ipython",
    "version": 3
   },
   "file_extension": ".py",
   "mimetype": "text/x-python",
   "name": "python",
   "nbconvert_exporter": "python",
   "pygments_lexer": "ipython3",
   "version": "3.10.14"
  }
 },
 "nbformat": 4,
 "nbformat_minor": 5
}

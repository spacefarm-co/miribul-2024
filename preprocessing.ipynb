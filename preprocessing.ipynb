{
 "cells": [
  {
   "cell_type": "code",
   "execution_count": null,
   "metadata": {},
   "outputs": [],
   "source": [
    "# data\n",
    "import pandas as pd\n",
    "\n",
    "ex_df = pd.read_csv('external_env_data.csv')\n",
    "in_df = pd.read_csv('internal_env_data.csv')\n",
    "control_df = pd.read_csv('control_data.csv')"
   ]
  },
  {
   "cell_type": "code",
   "execution_count": null,
   "metadata": {},
   "outputs": [],
   "source": [
    "# copy\n",
    "ex_df_copy = ex_df.copy()\n",
    "in_df_copy = in_df.copy()\n",
    "control_df_copy = control_df.copy()"
   ]
  },
  {
   "cell_type": "code",
   "execution_count": null,
   "metadata": {},
   "outputs": [],
   "source": [
    "# If there is no rain or snow, data is not recorded.\n",
    "# Separately handle missing data\n",
    "env = ex_df_copy[['datetime', 'temperature', 'windSpeed',\n",
    "       'windDirection', 'humidity', 'solar', 'groundTemp']]\n",
    "env_clean = env.dropna(axis=0)\n",
    "weather = ex_df_copy[['datetime', 'precipitation', 'snowfall']]"
   ]
  },
  {
   "cell_type": "code",
   "execution_count": null,
   "metadata": {},
   "outputs": [],
   "source": [
    "# Merge internal and external environmental data\n",
    "all_df = pd.merge(env_clean, in_df_copy, on='datetime', how='left')\n",
    "all_2df = pd.merge(all_df, weather, on='datetime', how='left')"
   ]
  },
  {
   "cell_type": "code",
   "execution_count": null,
   "metadata": {},
   "outputs": [],
   "source": [
    "# Change control data by time\n",
    "control_df_copy['min'] = control_df_copy['datetime'].map(lambda x : (str(x)[14:16]))\n",
    "control_df_copy_hour = control_df_copy[control_df_copy['min'] == '00']"
   ]
  },
  {
   "cell_type": "code",
   "execution_count": null,
   "metadata": {},
   "outputs": [],
   "source": [
    "# Remove unnecessary columns from control data\n",
    "control_df_copy_hour_clean = control_df_copy_hour.drop(columns=[\n",
    "    'siWinR01', 'siWinR02', 'siWinR03', 'siWinR04', 'upCurt01',\n",
    "    'upCurt02', 'upCurt03', 'upCurt04', 'dnCurt01', 'dnCurt02', \n",
    "    'dnCurt03','dnCurt04', 'siCurt01', 'siCurt02', 'siCurt03', \n",
    "    'siCurt04','Unnamed: 29', 'min'])"
   ]
  },
  {
   "cell_type": "code",
   "execution_count": null,
   "metadata": {},
   "outputs": [],
   "source": [
    "# Merge all data\n",
    "merge = pd.merge(control_df_copy_hour_clean, all_2df, how = 'outer', on = 'datetime')\n",
    "merge"
   ]
  }
 ],
 "metadata": {
  "kernelspec": {
   "display_name": "tf",
   "language": "python",
   "name": "python3"
  },
  "language_info": {
   "codemirror_mode": {
    "name": "ipython",
    "version": 3
   },
   "file_extension": ".py",
   "mimetype": "text/x-python",
   "name": "python",
   "nbconvert_exporter": "python",
   "pygments_lexer": "ipython3",
   "version": "3.10.12"
  }
 },
 "nbformat": 4,
 "nbformat_minor": 2
}

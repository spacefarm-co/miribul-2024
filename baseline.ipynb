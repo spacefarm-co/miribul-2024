{
  "cells": [
    {
      "cell_type": "code",
      "execution_count": 141,
      "id": "VuXZTtmiYCsn",
      "metadata": {
        "colab": {
          "base_uri": "https://localhost:8080/"
        },
        "executionInfo": {
          "elapsed": 10261,
          "status": "ok",
          "timestamp": 1722338536307,
          "user": {
            "displayName": "",
            "userId": ""
          },
          "user_tz": -540
        },
        "id": "VuXZTtmiYCsn",
        "outputId": "9bbc4858-15da-4ba6-ba22-2e0892c73b44"
      },
      "outputs": [],
      "source": [
        "# %pip install scikit-learn xgboost\n",
        "# %pip install torch\n",
        "# %pip install keras\n",
        "# %pip install tensorflow\n",
        "# %pip install xgboost\n",
        "# %pip install pandas\n",
        "# %pip install joblib"
      ]
    },
    {
      "cell_type": "code",
      "execution_count": 142,
      "id": "qzFL1KWPpYmqfS9EAUxIc6YZ",
      "metadata": {
        "executionInfo": {
          "elapsed": 9229,
          "status": "ok",
          "timestamp": 1722339568719,
          "user": {
            "displayName": "",
            "userId": ""
          },
          "user_tz": -540
        },
        "id": "qzFL1KWPpYmqfS9EAUxIc6YZ",
        "tags": []
      },
      "outputs": [],
      "source": [
        "# from supervised.automl import AutoML\n",
        "# from sklearn.datasets import make_moons\n",
        "# import os  # Import os to handle directories\n",
        "# from keras.models import load_model\n",
        "import os\n",
        "import pandas as pd\n",
        "import numpy as np\n",
        "\n",
        "from sklearn.model_selection import train_test_split\n",
        "from sklearn.metrics import accuracy_score\n",
        "from sklearn.preprocessing import StandardScaler\n",
        "from sklearn.metrics import mean_absolute_error, r2_score, mean_squared_error\n",
        "from sklearn.decomposition import PCA\n",
        "\n",
        "# 회귀 MODEL\n",
        "from sklearn.linear_model import LinearRegression\n",
        "from sklearn.ensemble import RandomForestRegressor, BaggingRegressor, VotingRegressor\n",
        "from xgboost import XGBRegressor\n",
        "from sklearn.neighbors import KNeighborsRegressor\n",
        "from sklearn.linear_model import LinearRegression, ElasticNet\n",
        "from sklearn.ensemble import RandomForestRegressor, BaggingRegressor, GradientBoostingRegressor, AdaBoostRegressor\n",
        "from sklearn.svm import SVR\n",
        "\n",
        "import random\n",
        "import torch\n",
        "import time\n",
        "import joblib  # Import joblib for saving the models\n",
        "\n",
        "\n",
        "import warnings\n",
        "warnings.filterwarnings('ignore')"
      ]
    },
    {
      "cell_type": "code",
      "execution_count": 143,
      "id": "IjOH7DsgblkG",
      "metadata": {
        "executionInfo": {
          "elapsed": 319,
          "status": "ok",
          "timestamp": 1722339522743,
          "user": {
            "displayName": "",
            "userId": ""
          },
          "user_tz": -540
        },
        "id": "IjOH7DsgblkG"
      },
      "outputs": [],
      "source": [
        "# Seed Value Setting\n",
        "seed = len(\"TEAMSPACEFARM_AND_BUSAN\")\n",
        "\n",
        "# Fixing Python Random Seed\n",
        "random.seed(seed)\n",
        "\n",
        "# Fixing NumPy Random Seed\n",
        "np.random.seed(seed)\n",
        "\n",
        "# Fixing PyTorch, CUDA, and cuDNN Random Seed\n",
        "device = 'cuda' if torch.cuda.is_available() else 'cpu'\n",
        "torch.manual_seed(seed)\n",
        "\n",
        "if device == 'cuda':\n",
        "    torch.cuda.manual_seed_all(seed)\n",
        "    torch.backends.cudnn.deterministic = True\n",
        "    torch.backends.cudnn.benchmark = False"
      ]
    },
    {
      "cell_type": "code",
      "execution_count": 144,
      "id": "ocWSQCTDZfL-",
      "metadata": {
        "executionInfo": {
          "elapsed": 316,
          "status": "ok",
          "timestamp": 1722339524732,
          "user": {
            "displayName": "",
            "userId": ""
          },
          "user_tz": -540
        },
        "id": "ocWSQCTDZfL-"
      },
      "outputs": [],
      "source": [
        "# # MASE\n",
        "# def mean_absolute_scaled_error(y_true, y_pred):\n",
        "#     n = len(y_true)\n",
        "\n",
        "#     # Calculate MAE of the forecasts\n",
        "#     mae_forecast = np.mean(np.abs(y_true - y_pred))\n",
        "\n",
        "#     # Calculate MAE of the naive forecast\n",
        "#     mae_naive = np.mean(np.abs(np.diff(y_true)))  # Diff calculates y_i - y_{i-1}\n",
        "\n",
        "#     # Ensure denominator is not zero\n",
        "#     if mae_naive == 0:\n",
        "#         return np.inf  # Return infinity if naive MAE is zero\n",
        "\n",
        "#     return mae_forecast / mae_naive"
      ]
    },
    {
      "cell_type": "code",
      "execution_count": 145,
      "id": "5eecc6b0",
      "metadata": {},
      "outputs": [],
      "source": [
        "import numpy as np\n",
        "\n",
        "def mean_absolute_scaled_error(y_true, y_pred):\n",
        "    \"\"\"\n",
        "    Calculates the Mean Absolute Scaled Error (MASE).\n",
        "\n",
        "    Args:\n",
        "        y_true (np.array): The true time series values.\n",
        "        y_pred (np.array): The predicted time series values.\n",
        "\n",
        "    Returns:\n",
        "        float: The MASE value.\n",
        "    \"\"\"\n",
        "    n = len(y_true)\n",
        "    \n",
        "    # Calculate MAE of the forecasts\n",
        "    mae_forecast = np.mean(np.abs(y_true - y_pred))\n",
        "    \n",
        "    # Calculate MAE of the naive forecast\n",
        "    mae_naive = np.mean(np.abs(np.diff(y_true)))  # Diff calculates y_i - y_{i-1}\n",
        "\n",
        "    # Ensure denominator is not zero\n",
        "    if mae_naive == 0:\n",
        "        return np.inf  # Return infinity if naive MAE is zero\n",
        "\n",
        "    return mae_forecast / mae_naive\n"
      ]
    },
    {
      "cell_type": "code",
      "execution_count": 146,
      "id": "212a48d2",
      "metadata": {},
      "outputs": [],
      "source": [
        "train_data = pd.read_csv('miribul-2024-main/data/environmentsB.csv', index_col = 0)\n",
        "\n",
        "# 시간 타입 변경\n",
        "# data['datetime'] = pd.to_datetime(data['datetime'], format='%Y-%m-%d %H:%M')"
      ]
    },
    {
      "cell_type": "code",
      "execution_count": 147,
      "id": "bfeecbe4",
      "metadata": {},
      "outputs": [
        {
          "name": "stdout",
          "output_type": "stream",
          "text": [
            "<class 'pandas.core.frame.DataFrame'>\n",
            "Index: 4740 entries, B농가 to B농가\n",
            "Data columns (total 7 columns):\n",
            " #   Column      Non-Null Count  Dtype  \n",
            "---  ------      --------------  -----  \n",
            " 0   datetime    4740 non-null   object \n",
            " 1   supplyEC    4740 non-null   float64\n",
            " 2   supplyPH    4740 non-null   float64\n",
            " 3   innerCO2    4740 non-null   float64\n",
            " 4   innerHum    4740 non-null   float64\n",
            " 5   innerTemp   4740 non-null   float64\n",
            " 6   innerSolar  4740 non-null   float64\n",
            "dtypes: float64(6), object(1)\n",
            "memory usage: 296.2+ KB\n"
          ]
        }
      ],
      "source": [
        "# 데이터 타입 형식 확인\n",
        "train_data.info()"
      ]
    },
    {
      "cell_type": "code",
      "execution_count": 148,
      "id": "119f5de6",
      "metadata": {},
      "outputs": [
        {
          "data": {
            "text/html": [
              "<div>\n",
              "<style scoped>\n",
              "    .dataframe tbody tr th:only-of-type {\n",
              "        vertical-align: middle;\n",
              "    }\n",
              "\n",
              "    .dataframe tbody tr th {\n",
              "        vertical-align: top;\n",
              "    }\n",
              "\n",
              "    .dataframe thead th {\n",
              "        text-align: right;\n",
              "    }\n",
              "</style>\n",
              "<table border=\"1\" class=\"dataframe\">\n",
              "  <thead>\n",
              "    <tr style=\"text-align: right;\">\n",
              "      <th></th>\n",
              "      <th>datetime</th>\n",
              "      <th>supplyEC</th>\n",
              "      <th>supplyPH</th>\n",
              "      <th>innerCO2</th>\n",
              "      <th>innerHum</th>\n",
              "      <th>innerTemp</th>\n",
              "      <th>innerSolar</th>\n",
              "    </tr>\n",
              "    <tr>\n",
              "      <th>farm</th>\n",
              "      <th></th>\n",
              "      <th></th>\n",
              "      <th></th>\n",
              "      <th></th>\n",
              "      <th></th>\n",
              "      <th></th>\n",
              "      <th></th>\n",
              "    </tr>\n",
              "  </thead>\n",
              "  <tbody>\n",
              "    <tr>\n",
              "      <th>B농가</th>\n",
              "      <td>False</td>\n",
              "      <td>False</td>\n",
              "      <td>False</td>\n",
              "      <td>False</td>\n",
              "      <td>False</td>\n",
              "      <td>False</td>\n",
              "      <td>False</td>\n",
              "    </tr>\n",
              "    <tr>\n",
              "      <th>B농가</th>\n",
              "      <td>False</td>\n",
              "      <td>False</td>\n",
              "      <td>False</td>\n",
              "      <td>False</td>\n",
              "      <td>False</td>\n",
              "      <td>False</td>\n",
              "      <td>False</td>\n",
              "    </tr>\n",
              "    <tr>\n",
              "      <th>B농가</th>\n",
              "      <td>False</td>\n",
              "      <td>False</td>\n",
              "      <td>False</td>\n",
              "      <td>False</td>\n",
              "      <td>False</td>\n",
              "      <td>False</td>\n",
              "      <td>False</td>\n",
              "    </tr>\n",
              "    <tr>\n",
              "      <th>B농가</th>\n",
              "      <td>False</td>\n",
              "      <td>False</td>\n",
              "      <td>False</td>\n",
              "      <td>False</td>\n",
              "      <td>False</td>\n",
              "      <td>False</td>\n",
              "      <td>False</td>\n",
              "    </tr>\n",
              "    <tr>\n",
              "      <th>B농가</th>\n",
              "      <td>False</td>\n",
              "      <td>False</td>\n",
              "      <td>False</td>\n",
              "      <td>False</td>\n",
              "      <td>False</td>\n",
              "      <td>False</td>\n",
              "      <td>False</td>\n",
              "    </tr>\n",
              "    <tr>\n",
              "      <th>...</th>\n",
              "      <td>...</td>\n",
              "      <td>...</td>\n",
              "      <td>...</td>\n",
              "      <td>...</td>\n",
              "      <td>...</td>\n",
              "      <td>...</td>\n",
              "      <td>...</td>\n",
              "    </tr>\n",
              "    <tr>\n",
              "      <th>B농가</th>\n",
              "      <td>False</td>\n",
              "      <td>False</td>\n",
              "      <td>False</td>\n",
              "      <td>False</td>\n",
              "      <td>False</td>\n",
              "      <td>False</td>\n",
              "      <td>False</td>\n",
              "    </tr>\n",
              "    <tr>\n",
              "      <th>B농가</th>\n",
              "      <td>False</td>\n",
              "      <td>False</td>\n",
              "      <td>False</td>\n",
              "      <td>False</td>\n",
              "      <td>False</td>\n",
              "      <td>False</td>\n",
              "      <td>False</td>\n",
              "    </tr>\n",
              "    <tr>\n",
              "      <th>B농가</th>\n",
              "      <td>False</td>\n",
              "      <td>False</td>\n",
              "      <td>False</td>\n",
              "      <td>False</td>\n",
              "      <td>False</td>\n",
              "      <td>False</td>\n",
              "      <td>False</td>\n",
              "    </tr>\n",
              "    <tr>\n",
              "      <th>B농가</th>\n",
              "      <td>False</td>\n",
              "      <td>False</td>\n",
              "      <td>False</td>\n",
              "      <td>False</td>\n",
              "      <td>False</td>\n",
              "      <td>False</td>\n",
              "      <td>False</td>\n",
              "    </tr>\n",
              "    <tr>\n",
              "      <th>B농가</th>\n",
              "      <td>False</td>\n",
              "      <td>False</td>\n",
              "      <td>False</td>\n",
              "      <td>False</td>\n",
              "      <td>False</td>\n",
              "      <td>False</td>\n",
              "      <td>False</td>\n",
              "    </tr>\n",
              "  </tbody>\n",
              "</table>\n",
              "<p>4740 rows × 7 columns</p>\n",
              "</div>"
            ],
            "text/plain": [
              "      datetime  supplyEC  supplyPH  innerCO2  innerHum  innerTemp  innerSolar\n",
              "farm                                                                         \n",
              "B농가      False     False     False     False     False      False       False\n",
              "B농가      False     False     False     False     False      False       False\n",
              "B농가      False     False     False     False     False      False       False\n",
              "B농가      False     False     False     False     False      False       False\n",
              "B농가      False     False     False     False     False      False       False\n",
              "...        ...       ...       ...       ...       ...        ...         ...\n",
              "B농가      False     False     False     False     False      False       False\n",
              "B농가      False     False     False     False     False      False       False\n",
              "B농가      False     False     False     False     False      False       False\n",
              "B농가      False     False     False     False     False      False       False\n",
              "B농가      False     False     False     False     False      False       False\n",
              "\n",
              "[4740 rows x 7 columns]"
            ]
          },
          "execution_count": 148,
          "metadata": {},
          "output_type": "execute_result"
        }
      ],
      "source": [
        "# 널 값 확인\n",
        "train_data.isnull()"
      ]
    },
    {
      "cell_type": "code",
      "execution_count": 149,
      "id": "8ba85ca8",
      "metadata": {},
      "outputs": [],
      "source": [
        "# 널값 드랍\n",
        "train_data = train_data.dropna()"
      ]
    },
    {
      "cell_type": "code",
      "execution_count": 150,
      "id": "51dcb29e",
      "metadata": {},
      "outputs": [
        {
          "name": "stdout",
          "output_type": "stream",
          "text": [
            "(4740, 7)\n"
          ]
        }
      ],
      "source": [
        "# 행 확인\n",
        "print(train_data.shape)"
      ]
    },
    {
      "cell_type": "code",
      "execution_count": 151,
      "id": "d2495652",
      "metadata": {},
      "outputs": [
        {
          "name": "stdout",
          "output_type": "stream",
          "text": [
            "Index(['datetime', 'supplyEC', 'supplyPH', 'innerCO2', 'innerHum', 'innerTemp',\n",
            "       'innerSolar'],\n",
            "      dtype='object')\n"
          ]
        }
      ],
      "source": [
        "# 데이터 컬럼 확인\n",
        "print(train_data.columns)"
      ]
    },
    {
      "cell_type": "code",
      "execution_count": 175,
      "id": "89e7c7a6",
      "metadata": {},
      "outputs": [],
      "source": [
        "# 불필요한 컬럼 드랍 => 사용할 컬럼만 추가해서 사용\n",
        "# x = train_data.drop(['Stem Diameter'], axis=1)\n",
        "\n",
        "x = train_data[['supplyPH', 'innerCO2', 'supplyEC']]\n",
        "y = train_data[['innerHum', 'innerTemp']]\n",
        "\n"
      ]
    },
    {
      "cell_type": "code",
      "execution_count": 176,
      "id": "85821aab",
      "metadata": {},
      "outputs": [
        {
          "data": {
            "text/plain": [
              "(4740, 3)"
            ]
          },
          "execution_count": 176,
          "metadata": {},
          "output_type": "execute_result"
        }
      ],
      "source": [
        "x.shape\n",
        "# (137537, 6)"
      ]
    },
    {
      "cell_type": "code",
      "execution_count": 177,
      "id": "e81e0283",
      "metadata": {},
      "outputs": [
        {
          "data": {
            "text/plain": [
              "Index(['supplyPH', 'innerCO2', 'supplyEC'], dtype='object')"
            ]
          },
          "execution_count": 177,
          "metadata": {},
          "output_type": "execute_result"
        }
      ],
      "source": [
        "x.columns"
      ]
    },
    {
      "cell_type": "code",
      "execution_count": 178,
      "id": "76d217e3",
      "metadata": {},
      "outputs": [
        {
          "data": {
            "text/html": [
              "<div>\n",
              "<style scoped>\n",
              "    .dataframe tbody tr th:only-of-type {\n",
              "        vertical-align: middle;\n",
              "    }\n",
              "\n",
              "    .dataframe tbody tr th {\n",
              "        vertical-align: top;\n",
              "    }\n",
              "\n",
              "    .dataframe thead th {\n",
              "        text-align: right;\n",
              "    }\n",
              "</style>\n",
              "<table border=\"1\" class=\"dataframe\">\n",
              "  <thead>\n",
              "    <tr style=\"text-align: right;\">\n",
              "      <th></th>\n",
              "      <th>supplyPH</th>\n",
              "      <th>innerCO2</th>\n",
              "      <th>supplyEC</th>\n",
              "    </tr>\n",
              "    <tr>\n",
              "      <th>farm</th>\n",
              "      <th></th>\n",
              "      <th></th>\n",
              "      <th></th>\n",
              "    </tr>\n",
              "  </thead>\n",
              "  <tbody>\n",
              "    <tr>\n",
              "      <th>B농가</th>\n",
              "      <td>6.0</td>\n",
              "      <td>511.60</td>\n",
              "      <td>0.4</td>\n",
              "    </tr>\n",
              "    <tr>\n",
              "      <th>B농가</th>\n",
              "      <td>6.0</td>\n",
              "      <td>517.83</td>\n",
              "      <td>1.0</td>\n",
              "    </tr>\n",
              "    <tr>\n",
              "      <th>B농가</th>\n",
              "      <td>6.0</td>\n",
              "      <td>526.83</td>\n",
              "      <td>1.0</td>\n",
              "    </tr>\n",
              "    <tr>\n",
              "      <th>B농가</th>\n",
              "      <td>6.0</td>\n",
              "      <td>532.67</td>\n",
              "      <td>1.0</td>\n",
              "    </tr>\n",
              "    <tr>\n",
              "      <th>B농가</th>\n",
              "      <td>6.0</td>\n",
              "      <td>540.17</td>\n",
              "      <td>1.0</td>\n",
              "    </tr>\n",
              "    <tr>\n",
              "      <th>B농가</th>\n",
              "      <td>6.0</td>\n",
              "      <td>548.33</td>\n",
              "      <td>1.0</td>\n",
              "    </tr>\n",
              "    <tr>\n",
              "      <th>B농가</th>\n",
              "      <td>6.0</td>\n",
              "      <td>543.17</td>\n",
              "      <td>1.0</td>\n",
              "    </tr>\n",
              "    <tr>\n",
              "      <th>B농가</th>\n",
              "      <td>6.0</td>\n",
              "      <td>543.33</td>\n",
              "      <td>1.0</td>\n",
              "    </tr>\n",
              "    <tr>\n",
              "      <th>B농가</th>\n",
              "      <td>6.0</td>\n",
              "      <td>544.00</td>\n",
              "      <td>1.0</td>\n",
              "    </tr>\n",
              "    <tr>\n",
              "      <th>B농가</th>\n",
              "      <td>6.0</td>\n",
              "      <td>546.50</td>\n",
              "      <td>1.0</td>\n",
              "    </tr>\n",
              "  </tbody>\n",
              "</table>\n",
              "</div>"
            ],
            "text/plain": [
              "      supplyPH  innerCO2  supplyEC\n",
              "farm                              \n",
              "B농가        6.0    511.60       0.4\n",
              "B농가        6.0    517.83       1.0\n",
              "B농가        6.0    526.83       1.0\n",
              "B농가        6.0    532.67       1.0\n",
              "B농가        6.0    540.17       1.0\n",
              "B농가        6.0    548.33       1.0\n",
              "B농가        6.0    543.17       1.0\n",
              "B농가        6.0    543.33       1.0\n",
              "B농가        6.0    544.00       1.0\n",
              "B농가        6.0    546.50       1.0"
            ]
          },
          "execution_count": 178,
          "metadata": {},
          "output_type": "execute_result"
        }
      ],
      "source": [
        "x.head(10)"
      ]
    },
    {
      "cell_type": "code",
      "execution_count": 179,
      "id": "qEoklLBZUXIr",
      "metadata": {
        "executionInfo": {
          "elapsed": 349,
          "status": "ok",
          "timestamp": 1722337788837,
          "user": {
            "displayName": "",
            "userId": ""
          },
          "user_tz": -540
        },
        "id": "qEoklLBZUXIr"
      },
      "outputs": [],
      "source": [
        "# y = train_data[['Stem Diameter',\n",
        "#        'Petiole Length', 'Leaf Count', 'Leaf Length', 'Leaf Width', 'Fruit Count',\n",
        "#        'Plant Height', 'Final Inflorescence Order', 'Inflorescence Flower Count']]"
      ]
    },
    {
      "cell_type": "code",
      "execution_count": 180,
      "id": "1947a99c",
      "metadata": {},
      "outputs": [
        {
          "data": {
            "text/plain": [
              "(4740, 2)"
            ]
          },
          "execution_count": 180,
          "metadata": {},
          "output_type": "execute_result"
        }
      ],
      "source": [
        "y.shape\n",
        "# (137537, 9)"
      ]
    },
    {
      "cell_type": "code",
      "execution_count": 181,
      "id": "0062810a",
      "metadata": {},
      "outputs": [
        {
          "data": {
            "text/plain": [
              "Index(['innerHum', 'innerTemp'], dtype='object')"
            ]
          },
          "execution_count": 181,
          "metadata": {},
          "output_type": "execute_result"
        }
      ],
      "source": [
        "y.columns\n",
        "# Index(['Stem Diameter', 'Petiole Length', 'Leaf Count', 'Leaf Length',\n",
        "#        'Leaf Width', 'Fruit Count', 'Plant Height',\n",
        "#        'Final Inflorescence Order', 'Inflorescence Flower Count'],\n",
        "#       dtype='object')"
      ]
    },
    {
      "cell_type": "code",
      "execution_count": 182,
      "id": "f973a73f",
      "metadata": {},
      "outputs": [
        {
          "data": {
            "text/html": [
              "<div>\n",
              "<style scoped>\n",
              "    .dataframe tbody tr th:only-of-type {\n",
              "        vertical-align: middle;\n",
              "    }\n",
              "\n",
              "    .dataframe tbody tr th {\n",
              "        vertical-align: top;\n",
              "    }\n",
              "\n",
              "    .dataframe thead th {\n",
              "        text-align: right;\n",
              "    }\n",
              "</style>\n",
              "<table border=\"1\" class=\"dataframe\">\n",
              "  <thead>\n",
              "    <tr style=\"text-align: right;\">\n",
              "      <th></th>\n",
              "      <th>innerHum</th>\n",
              "      <th>innerTemp</th>\n",
              "    </tr>\n",
              "    <tr>\n",
              "      <th>farm</th>\n",
              "      <th></th>\n",
              "      <th></th>\n",
              "    </tr>\n",
              "  </thead>\n",
              "  <tbody>\n",
              "    <tr>\n",
              "      <th>B농가</th>\n",
              "      <td>92.20</td>\n",
              "      <td>18.00</td>\n",
              "    </tr>\n",
              "    <tr>\n",
              "      <th>B농가</th>\n",
              "      <td>94.67</td>\n",
              "      <td>17.67</td>\n",
              "    </tr>\n",
              "    <tr>\n",
              "      <th>B농가</th>\n",
              "      <td>97.67</td>\n",
              "      <td>16.67</td>\n",
              "    </tr>\n",
              "    <tr>\n",
              "      <th>B농가</th>\n",
              "      <td>98.17</td>\n",
              "      <td>16.00</td>\n",
              "    </tr>\n",
              "    <tr>\n",
              "      <th>B농가</th>\n",
              "      <td>97.50</td>\n",
              "      <td>15.33</td>\n",
              "    </tr>\n",
              "    <tr>\n",
              "      <th>B농가</th>\n",
              "      <td>97.33</td>\n",
              "      <td>14.67</td>\n",
              "    </tr>\n",
              "    <tr>\n",
              "      <th>B농가</th>\n",
              "      <td>97.00</td>\n",
              "      <td>15.00</td>\n",
              "    </tr>\n",
              "    <tr>\n",
              "      <th>B농가</th>\n",
              "      <td>97.50</td>\n",
              "      <td>15.00</td>\n",
              "    </tr>\n",
              "    <tr>\n",
              "      <th>B농가</th>\n",
              "      <td>96.83</td>\n",
              "      <td>15.00</td>\n",
              "    </tr>\n",
              "    <tr>\n",
              "      <th>B농가</th>\n",
              "      <td>97.33</td>\n",
              "      <td>14.67</td>\n",
              "    </tr>\n",
              "  </tbody>\n",
              "</table>\n",
              "</div>"
            ],
            "text/plain": [
              "      innerHum  innerTemp\n",
              "farm                     \n",
              "B농가      92.20      18.00\n",
              "B농가      94.67      17.67\n",
              "B농가      97.67      16.67\n",
              "B농가      98.17      16.00\n",
              "B농가      97.50      15.33\n",
              "B농가      97.33      14.67\n",
              "B농가      97.00      15.00\n",
              "B농가      97.50      15.00\n",
              "B농가      96.83      15.00\n",
              "B농가      97.33      14.67"
            ]
          },
          "execution_count": 182,
          "metadata": {},
          "output_type": "execute_result"
        }
      ],
      "source": [
        "y.head(10)"
      ]
    },
    {
      "cell_type": "code",
      "execution_count": 183,
      "id": "pKSfd6GJUg6y",
      "metadata": {
        "colab": {
          "base_uri": "https://localhost:8080/"
        },
        "executionInfo": {
          "elapsed": 326,
          "status": "ok",
          "timestamp": 1722337799220,
          "user": {
            "displayName": "",
            "userId": ""
          },
          "user_tz": -540
        },
        "id": "pKSfd6GJUg6y",
        "outputId": "6d44cc09-0806-4a53-fe1a-06ac88574266"
      },
      "outputs": [
        {
          "name": "stdout",
          "output_type": "stream",
          "text": [
            "(4740, 3) (4740, 2)\n"
          ]
        }
      ],
      "source": [
        "print(x.shape, y.shape)\n",
        "# (171897, 52) (171897, 9)"
      ]
    },
    {
      "cell_type": "code",
      "execution_count": 184,
      "id": "8b77f2d6",
      "metadata": {},
      "outputs": [
        {
          "data": {
            "text/plain": [
              "supplyPH    0\n",
              "innerCO2    0\n",
              "supplyEC    0\n",
              "dtype: int64"
            ]
          },
          "execution_count": 184,
          "metadata": {},
          "output_type": "execute_result"
        }
      ],
      "source": [
        "# x.isnull()\n",
        "x.isnull().sum()\n",
        "# Live Injections    364\n",
        "# Num                364\n",
        "# supplyEC             0\n",
        "# supplyPH             0\n",
        "# innerCO2             0\n",
        "# innerHum             0\n",
        "# innerTemp            0\n",
        "# innerSolar           0\n",
        "# dtype: int64"
      ]
    },
    {
      "cell_type": "code",
      "execution_count": 185,
      "id": "ae5b4445",
      "metadata": {},
      "outputs": [
        {
          "data": {
            "text/plain": [
              "innerHum     0\n",
              "innerTemp    0\n",
              "dtype: int64"
            ]
          },
          "execution_count": 185,
          "metadata": {},
          "output_type": "execute_result"
        }
      ],
      "source": [
        "y.isnull().sum()\n",
        "# Stem Diameter                 364\n",
        "# Petiole Length                364\n",
        "# Leaf Count                    364\n",
        "# Leaf Length                   364\n",
        "# Leaf Width                    364\n",
        "# Fruit Count                   364\n",
        "# Plant Height                  364\n",
        "# Final Inflorescence Order     364\n",
        "# Inflorescence Flower Count    364\n",
        "# Facility ID                     0\n",
        "# Survey Date                     0\n",
        "# dtype: int64"
      ]
    },
    {
      "cell_type": "code",
      "execution_count": 186,
      "id": "7171f82c",
      "metadata": {},
      "outputs": [],
      "source": [
        "# x = x.dropna()\n",
        "# y = y.dropna()"
      ]
    },
    {
      "cell_type": "code",
      "execution_count": 187,
      "id": "3ac030c6",
      "metadata": {},
      "outputs": [
        {
          "data": {
            "text/plain": [
              "supplyPH    0\n",
              "innerCO2    0\n",
              "supplyEC    0\n",
              "dtype: int64"
            ]
          },
          "execution_count": 187,
          "metadata": {},
          "output_type": "execute_result"
        }
      ],
      "source": [
        "x.isnull().sum()\n",
        "# Live Injections    0\n",
        "# Num                0\n",
        "# supplyEC           0\n",
        "# supplyPH           0\n",
        "# innerCO2           0\n",
        "# innerHum           0\n",
        "# innerTemp          0\n",
        "# innerSolar         0\n",
        "# dtype: int64"
      ]
    },
    {
      "cell_type": "code",
      "execution_count": 188,
      "id": "0d4be768",
      "metadata": {},
      "outputs": [
        {
          "data": {
            "text/plain": [
              "innerHum     0\n",
              "innerTemp    0\n",
              "dtype: int64"
            ]
          },
          "execution_count": 188,
          "metadata": {},
          "output_type": "execute_result"
        }
      ],
      "source": [
        "y.isnull().sum()\n",
        "# Stem Diameter                 0\n",
        "# Petiole Length                0\n",
        "# Leaf Count                    0\n",
        "# Leaf Length                   0\n",
        "# Leaf Width                    0\n",
        "# Fruit Count                   0\n",
        "# Plant Height                  0\n",
        "# Final Inflorescence Order     0\n",
        "# Inflorescence Flower Count    0\n",
        "# Facility ID                   0\n",
        "# Survey Date                   0\n",
        "# dtype: int64"
      ]
    },
    {
      "cell_type": "code",
      "execution_count": 189,
      "id": "73225707",
      "metadata": {},
      "outputs": [
        {
          "name": "stdout",
          "output_type": "stream",
          "text": [
            "(4740, 3) (4740, 2)\n"
          ]
        }
      ],
      "source": [
        "print(x.shape, y.shape)\n",
        "# (137537, 6) (137537, 9)"
      ]
    },
    {
      "cell_type": "code",
      "execution_count": 190,
      "id": "a5022651",
      "metadata": {},
      "outputs": [
        {
          "name": "stdout",
          "output_type": "stream",
          "text": [
            "<class 'pandas.core.frame.DataFrame'>\n",
            "Index: 4740 entries, B농가 to B농가\n",
            "Data columns (total 2 columns):\n",
            " #   Column     Non-Null Count  Dtype  \n",
            "---  ------     --------------  -----  \n",
            " 0   innerHum   4740 non-null   float64\n",
            " 1   innerTemp  4740 non-null   float64\n",
            "dtypes: float64(2)\n",
            "memory usage: 111.1+ KB\n"
          ]
        }
      ],
      "source": [
        "y.info()\n",
        "# <class 'pandas.core.frame.DataFrame'>\n",
        "# Index: 171897 entries, 2023-10-06 00:00:00 to 2024-04-26 00:00:00\n",
        "# Data columns (total 9 columns):\n",
        "#  #   Column                      Non-Null Count   Dtype  \n",
        "# ---  ------                      --------------   -----  \n",
        "#  0   Stem Diameter               171897 non-null  float64\n",
        "#  1   Petiole Length              171897 non-null  float64\n",
        "#  2   Leaf Count                  171897 non-null  float64\n",
        "#  3   Leaf Length                 171897 non-null  float64\n",
        "#  4   Leaf Width                  171897 non-null  float64\n",
        "#  5   Fruit Count                 171897 non-null  int64  \n",
        "#  6   Plant Height                171897 non-null  float64\n",
        "#  7   Final Inflorescence Order   171897 non-null  int64  \n",
        "#  8   Inflorescence Flower Count  171897 non-null  int64  \n",
        "# dtypes: float64(6), int64(3)\n",
        "# memory usage: 13.1+ MB"
      ]
    },
    {
      "cell_type": "code",
      "execution_count": 191,
      "id": "519acf41",
      "metadata": {},
      "outputs": [
        {
          "name": "stdout",
          "output_type": "stream",
          "text": [
            "<class 'pandas.core.frame.DataFrame'>\n",
            "Index: 4740 entries, B농가 to B농가\n",
            "Data columns (total 2 columns):\n",
            " #   Column     Non-Null Count  Dtype  \n",
            "---  ------     --------------  -----  \n",
            " 0   innerHum   4740 non-null   float64\n",
            " 1   innerTemp  4740 non-null   float64\n",
            "dtypes: float64(2)\n",
            "memory usage: 111.1+ KB\n"
          ]
        }
      ],
      "source": [
        "y.info()\n",
        "# <class 'pandas.core.frame.DataFrame'>\n",
        "# Index: 171897 entries, 2023-10-06 00:00:00 to 2024-04-26 00:00:00\n",
        "# Data columns (total 9 columns):\n",
        "#  #   Column                      Non-Null Count   Dtype  \n",
        "# ---  ------                      --------------   -----  \n",
        "#  0   Stem Diameter               171897 non-null  float64\n",
        "#  1   Petiole Length              171897 non-null  float64\n",
        "#  2   Leaf Count                  171897 non-null  float64\n",
        "#  3   Leaf Length                 171897 non-null  float64\n",
        "#  4   Leaf Width                  171897 non-null  float64\n",
        "#  5   Fruit Count                 171897 non-null  int64  \n",
        "#  6   Plant Height                171897 non-null  float64\n",
        "#  7   Final Inflorescence Order   171897 non-null  int64  \n",
        "#  8   Inflorescence Flower Count  171897 non-null  int64  \n",
        "# dtypes: float64(6), int64(3)\n",
        "# memory usage: 13.1+ MB\n"
      ]
    },
    {
      "cell_type": "code",
      "execution_count": 192,
      "id": "85bec50f",
      "metadata": {},
      "outputs": [
        {
          "data": {
            "text/plain": [
              "(Index(['supplyPH', 'innerCO2', 'supplyEC'], dtype='object'),\n",
              " Index(['innerHum', 'innerTemp'], dtype='object'))"
            ]
          },
          "execution_count": 192,
          "metadata": {},
          "output_type": "execute_result"
        }
      ],
      "source": [
        "x.columns, y.columns\n",
        "# (Index(['supplyEC', 'supplyPH', 'innerCO2', 'innerHum', 'innerTemp',\n",
        "#         'innerSolar'],\n",
        "#        dtype='object'),\n",
        "#  Index(['Stem Diameter', 'Petiole Length', 'Leaf Count', 'Leaf Length',\n",
        "#         'Leaf Width', 'Fruit Count', 'Plant Height',\n",
        "#         'Final Inflorescence Order', 'Inflorescence Flower Count'],\n",
        "#        dtype='object'))"
      ]
    },
    {
      "cell_type": "code",
      "execution_count": 193,
      "id": "xtsp2p28UonR",
      "metadata": {
        "executionInfo": {
          "elapsed": 1,
          "status": "ok",
          "timestamp": 1722337821177,
          "user": {
            "displayName": "",
            "userId": ""
          },
          "user_tz": -540
        },
        "id": "xtsp2p28UonR"
      },
      "outputs": [],
      "source": [
        "X_train, X_test, y_train, y_test = train_test_split(\n",
        "    x, y, test_size=0.3\n",
        ")"
      ]
    },
    {
      "cell_type": "code",
      "execution_count": 194,
      "id": "xU_vhom6VX_a",
      "metadata": {
        "colab": {
          "base_uri": "https://localhost:8080/"
        },
        "executionInfo": {
          "elapsed": 2,
          "status": "ok",
          "timestamp": 1722337853632,
          "user": {
            "displayName": "",
            "userId": ""
          },
          "user_tz": -540
        },
        "id": "xU_vhom6VX_a",
        "outputId": "b70c045b-b4e7-4767-bab1-99a48e1c2e4b"
      },
      "outputs": [
        {
          "data": {
            "text/plain": [
              "((3318, 3), (3318, 2), (1422, 3), (1422, 2))"
            ]
          },
          "execution_count": 194,
          "metadata": {},
          "output_type": "execute_result"
        }
      ],
      "source": [
        "X_train.shape, y_train.shape, X_test.shape, y_test.shape\n",
        "# ((82522, 6), (82522, 9), (55015, 6), (55015, 9))"
      ]
    },
    {
      "cell_type": "code",
      "execution_count": 195,
      "id": "ym-gVxUjVbdv",
      "metadata": {
        "executionInfo": {
          "elapsed": 2,
          "status": "ok",
          "timestamp": 1722337862829,
          "user": {
            "displayName": "",
            "userId": ""
          },
          "user_tz": -540
        },
        "id": "ym-gVxUjVbdv"
      },
      "outputs": [],
      "source": [
        "# Scaling the data\n",
        "scaler = StandardScaler()\n",
        "x_train = scaler.fit_transform(X_train)\n",
        "x_test = scaler.transform(X_test)"
      ]
    },
    {
      "cell_type": "code",
      "execution_count": 196,
      "id": "JPTj1GD_ViMG",
      "metadata": {
        "executionInfo": {
          "elapsed": 323,
          "status": "ok",
          "timestamp": 1722337874526,
          "user": {
            "displayName": "",
            "userId": ""
          },
          "user_tz": -540
        },
        "id": "JPTj1GD_ViMG"
      },
      "outputs": [],
      "source": [
        "str_time = time.time()"
      ]
    },
    {
      "cell_type": "code",
      "execution_count": 198,
      "id": "6cdbc3d9",
      "metadata": {},
      "outputs": [
        {
          "name": "stdout",
          "output_type": "stream",
          "text": [
            "Linear Regression - MSE: 158.0711696660862\n",
            "Linear Regression - MASE: 0.12257865520531233\n",
            "Linear Regression - R2: -0.0019070527968546025\n",
            "Linear Regression - RMSE: 12.572635748564666\n",
            "Linear Regression - Training Time: 0.001316070556640625\n",
            "Model saved as ./save_models_all/Linear Regression_model.h5\n",
            "Random Forest Regressor - MSE: 135.87182718978562\n",
            "Random Forest Regressor - MASE: 0.10079159901038327\n",
            "Random Forest Regressor - R2: 0.16230752261724124\n",
            "Random Forest Regressor - RMSE: 11.656407130406247\n",
            "Random Forest Regressor - Training Time: 0.27129602432250977\n",
            "Model saved as ./save_models_all/Random Forest Regressor_model.h5\n",
            "Bagging Regressor - MSE: 139.43492339431322\n",
            "Bagging Regressor - MASE: 0.10163971938293039\n",
            "Bagging Regressor - R2: 0.14357620839012142\n",
            "Bagging Regressor - RMSE: 11.808256577256154\n",
            "Bagging Regressor - Training Time: 0.026384830474853516\n",
            "Model saved as ./save_models_all/Bagging Regressor_model.h5\n",
            "XGBoost Regressor - MSE: 117.73843535338376\n",
            "XGBoost Regressor - MASE: 0.09511430911951496\n",
            "XGBoost Regressor - R2: 0.27365814404722066\n",
            "XGBoost Regressor - RMSE: 10.850734323232864\n",
            "XGBoost Regressor - Training Time: 0.1984570026397705\n",
            "Model saved as ./save_models_all/XGBoost Regressor_model.h5\n",
            "ElasticNet Regressor - MSE: 157.5514299038248\n",
            "ElasticNet Regressor - MASE: 0.12297730179602477\n",
            "ElasticNet Regressor - R2: -0.00041285072824237545\n",
            "ElasticNet Regressor - RMSE: 12.551949247181684\n",
            "ElasticNet Regressor - Training Time: 0.001180887222290039\n",
            "Model saved as ./save_models_all/ElasticNet Regressor_model.h5\n",
            "K-Nearest Neighbors Regressor - MSE: 127.62923781997172\n",
            "K-Nearest Neighbors Regressor - MASE: 0.09931578485298438\n",
            "K-Nearest Neighbors Regressor - R2: 0.2115729681671894\n",
            "K-Nearest Neighbors Regressor - RMSE: 11.297311088040894\n",
            "K-Nearest Neighbors Regressor - Training Time: 0.0008971691131591797\n",
            "Model saved as ./save_models_all/K-Nearest Neighbors Regressor_model.h5\n",
            "                           Model         MSE      MASE        R2       RMSE  \\\n",
            "0              Linear Regression  158.071170  0.122579 -0.001907  12.572636   \n",
            "1        Random Forest Regressor  135.871827  0.100792  0.162308  11.656407   \n",
            "2              Bagging Regressor  139.434923  0.101640  0.143576  11.808257   \n",
            "3              XGBoost Regressor  117.738435  0.095114  0.273658  10.850734   \n",
            "4           ElasticNet Regressor  157.551430  0.122977 -0.000413  12.551949   \n",
            "5  K-Nearest Neighbors Regressor  127.629238  0.099316  0.211573  11.297311   \n",
            "\n",
            "   Training Time  \n",
            "0       0.001316  \n",
            "1       0.271296  \n",
            "2       0.026385  \n",
            "3       0.198457  \n",
            "4       0.001181  \n",
            "5       0.000897  \n"
          ]
        }
      ],
      "source": [
        "# Initialize individual regressors\n",
        "models = {\n",
        "    'Linear Regression': LinearRegression(),\n",
        "    'Random Forest Regressor': RandomForestRegressor(n_estimators=100, random_state=42),\n",
        "    'Bagging Regressor': BaggingRegressor(n_estimators=10, random_state=42),\n",
        "    'XGBoost Regressor': XGBRegressor(n_estimators=100, random_state=42),\n",
        "    'ElasticNet Regressor': ElasticNet(random_state=42),\n",
        "    'K-Nearest Neighbors Regressor': KNeighborsRegressor()\n",
        "}\n",
        "\n",
        "# Dictionary to store the performance metrics for each model\n",
        "metrics = {\n",
        "    'Model': [],\n",
        "    'MSE': [],\n",
        "    'MASE': [],\n",
        "    'R2': [],\n",
        "    'RMSE': [],\n",
        "    'Training Time': []\n",
        "}\n",
        "\n",
        "# Directory to save model weights\n",
        "save_model_path = './save_models_all'\n",
        "os.makedirs(save_model_path, exist_ok=True)  # Create the directory if it does not exist\n",
        "\n",
        "# Train and evaluate each model\n",
        "for name, model in models.items():\n",
        "    # Record the start time\n",
        "    start_time = time.time()\n",
        "    \n",
        "    # Fit the model\n",
        "    model.fit(X_train, y_train)\n",
        "    \n",
        "    # Record the end time\n",
        "    end_time = time.time()\n",
        "\n",
        "    # Calculate training time\n",
        "    training_time = end_time - start_time\n",
        "\n",
        "    # Make predictions\n",
        "    y_pred = model.predict(X_test)\n",
        "\n",
        "    # Calculate performance metrics\n",
        "    mse = mean_squared_error(y_test, y_pred)\n",
        "    mase = mean_absolute_scaled_error(y_test, y_pred)\n",
        "    r2 = r2_score(y_test, y_pred)\n",
        "    rmse = np.sqrt(mse)\n",
        "\n",
        "    # Store the metrics\n",
        "    metrics['Model'].append(name)\n",
        "    metrics['MSE'].append(mse)\n",
        "    metrics['MASE'].append(mase)\n",
        "    metrics['R2'].append(r2)\n",
        "    metrics['RMSE'].append(rmse)\n",
        "    metrics['Training Time'].append(training_time)\n",
        "\n",
        "    # Print the metrics\n",
        "    print(f'{name} - MSE: {mse}')\n",
        "    print(f'{name} - MASE: {mase}')\n",
        "    print(f'{name} - R2: {r2}')\n",
        "    print(f'{name} - RMSE: {rmse}')\n",
        "    print(f'{name} - Training Time: {training_time}')\n",
        "\n",
        "    # Save the model weights\n",
        "    model_filename = os.path.join(save_model_path, f'{name}_model.h5')  # Changed extension to .pkl for compatibility\n",
        "    joblib.dump(model, model_filename)\n",
        "    print(f'Model saved as {model_filename}')\n",
        "\n",
        "# Convert the metrics dictionary to a DataFrame for a cleaner display\n",
        "metrics_df = pd.DataFrame(metrics)\n",
        "print(metrics_df)\n",
        "\n",
        "# Save the metrics to a CSV file\n",
        "metrics_df.to_csv('result_all.csv', index=False)"
      ]
    },
    {
      "cell_type": "code",
      "execution_count": null,
      "id": "8ae776e9",
      "metadata": {},
      "outputs": [],
      "source": []
    },
    {
      "cell_type": "code",
      "execution_count": null,
      "id": "0268e5e7",
      "metadata": {},
      "outputs": [],
      "source": []
    },
    {
      "cell_type": "code",
      "execution_count": null,
      "id": "41bf2138",
      "metadata": {},
      "outputs": [],
      "source": []
    },
    {
      "cell_type": "code",
      "execution_count": null,
      "id": "32087421",
      "metadata": {},
      "outputs": [],
      "source": []
    },
    {
      "cell_type": "code",
      "execution_count": null,
      "id": "fe97ff08",
      "metadata": {},
      "outputs": [],
      "source": []
    },
    {
      "cell_type": "code",
      "execution_count": null,
      "id": "a126158d",
      "metadata": {},
      "outputs": [],
      "source": []
    },
    {
      "cell_type": "code",
      "execution_count": null,
      "id": "3d3a42ef",
      "metadata": {},
      "outputs": [],
      "source": []
    },
    {
      "cell_type": "code",
      "execution_count": null,
      "id": "3e955b81",
      "metadata": {},
      "outputs": [],
      "source": []
    }
  ],
  "metadata": {
    "colab": {
      "name": "jini (2024. 7. 30. 오후 8:02:06)",
      "provenance": []
    },
    "kernelspec": {
      "display_name": "Python 3",
      "language": "python",
      "name": "python3"
    },
    "language_info": {
      "codemirror_mode": {
        "name": "ipython",
        "version": 3
      },
      "file_extension": ".py",
      "mimetype": "text/x-python",
      "name": "python",
      "nbconvert_exporter": "python",
      "pygments_lexer": "ipython3",
      "version": "3.11.5"
    }
  },
  "nbformat": 4,
  "nbformat_minor": 5
}

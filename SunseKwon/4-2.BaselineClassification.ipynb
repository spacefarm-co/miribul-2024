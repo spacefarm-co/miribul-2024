{
 "cells": [
  {
   "cell_type": "markdown",
   "id": "52eb36f1-f05f-4206-a4bb-a231589135e8",
   "metadata": {},
   "source": [
    "# Baseline Classification"
   ]
  },
  {
   "cell_type": "markdown",
   "id": "a295b5e9-e343-4c91-ba38-d30b0c68dcea",
   "metadata": {},
   "source": [
    "## train, validation, test split"
   ]
  },
  {
   "cell_type": "markdown",
   "id": "cfdbdc52-7e3f-4f10-aff9-1788c5a2dde2",
   "metadata": {},
   "source": [
    "## normalization"
   ]
  },
  {
   "cell_type": "markdown",
   "id": "3d13e62f-efdc-421d-959e-6668b1efb82f",
   "metadata": {},
   "source": [
    "## x,y split"
   ]
  },
  {
   "cell_type": "markdown",
   "id": "b9a1a1cc-be0a-405d-880a-426ef67de70a",
   "metadata": {},
   "source": [
    "## baseline model selection"
   ]
  },
  {
   "cell_type": "markdown",
   "id": "9bcab202-1b9b-40a8-8008-03b10ea8e515",
   "metadata": {},
   "source": [
    "### randomforest classifier "
   ]
  },
  {
   "cell_type": "markdown",
   "id": "dd83d652-5de3-4d5a-98dc-ff51f674b666",
   "metadata": {},
   "source": [
    "### xbgoost classifier"
   ]
  },
  {
   "cell_type": "markdown",
   "id": "3d49befa-7348-44f8-aa2c-4a94b03c3eac",
   "metadata": {},
   "source": [
    "### logistic regression"
   ]
  },
  {
   "cell_type": "markdown",
   "id": "3eb0db31-fca8-41ff-8447-9dbafbd15fc3",
   "metadata": {},
   "source": [
    "### K-nearest Neighbor"
   ]
  },
  {
   "cell_type": "markdown",
   "id": "f5b9daa6-c233-4940-917d-947761d9ce32",
   "metadata": {},
   "source": [
    "### ANN"
   ]
  },
  {
   "cell_type": "markdown",
   "id": "9739bc03-12dd-4793-843f-f1684b381418",
   "metadata": {},
   "source": [
    "## train"
   ]
  },
  {
   "cell_type": "markdown",
   "id": "f861cea2-3532-405e-b367-310568d0d375",
   "metadata": {},
   "source": [
    "## prediction"
   ]
  },
  {
   "cell_type": "markdown",
   "id": "0e183388-8e62-408c-b414-8214fc5a50b7",
   "metadata": {},
   "source": [
    "## performance metric"
   ]
  },
  {
   "cell_type": "code",
   "execution_count": null,
   "id": "c7cb85a2-88b8-44af-8c09-353581b7c89a",
   "metadata": {},
   "outputs": [],
   "source": []
  }
 ],
 "metadata": {
  "environment": {
   "kernel": "conda-env-tensorflow-tensorflow",
   "name": "workbench-notebooks.m123",
   "type": "gcloud",
   "uri": "us-docker.pkg.dev/deeplearning-platform-release/gcr.io/workbench-notebooks:m123"
  },
  "kernelspec": {
   "display_name": "TensorFlow 2-11 (Local)",
   "language": "python",
   "name": "conda-env-tensorflow-tensorflow"
  },
  "language_info": {
   "codemirror_mode": {
    "name": "ipython",
    "version": 3
   },
   "file_extension": ".py",
   "mimetype": "text/x-python",
   "name": "python",
   "nbconvert_exporter": "python",
   "pygments_lexer": "ipython3",
   "version": "3.10.14"
  }
 },
 "nbformat": 4,
 "nbformat_minor": 5
}

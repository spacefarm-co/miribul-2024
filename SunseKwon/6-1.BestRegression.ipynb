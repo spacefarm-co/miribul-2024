{
 "cells": [
  {
   "cell_type": "code",
   "execution_count": 1,
   "id": "38a5cb7d-d705-4375-82f7-e6010699c80e",
   "metadata": {},
   "outputs": [],
   "source": [
    "# Best model Regression"
   ]
  },
  {
   "cell_type": "code",
   "execution_count": null,
   "id": "aaa8426d-b701-4243-89af-0125b986d779",
   "metadata": {},
   "outputs": [],
   "source": [
    "# read data"
   ]
  },
  {
   "cell_type": "code",
   "execution_count": null,
   "id": "f7dcacd9-50c6-4f65-8dcf-6a3f35c0b15b",
   "metadata": {},
   "outputs": [],
   "source": [
    "# train test split"
   ]
  },
  {
   "cell_type": "code",
   "execution_count": null,
   "id": "3ecfe7b4-bbc9-4526-9eeb-55b8d78d161c",
   "metadata": {},
   "outputs": [],
   "source": [
    "# normalization"
   ]
  },
  {
   "cell_type": "code",
   "execution_count": null,
   "id": "0f58267a-4bc8-4de6-9eda-2b0467ba775b",
   "metadata": {},
   "outputs": [],
   "source": [
    "# x,y split"
   ]
  },
  {
   "cell_type": "code",
   "execution_count": null,
   "id": "db84fd20-e96a-4c9b-9e17-76d255f52c70",
   "metadata": {},
   "outputs": [],
   "source": [
    "# model"
   ]
  },
  {
   "cell_type": "code",
   "execution_count": null,
   "id": "74e15ebf-39aa-433c-944d-ad0ed97566cb",
   "metadata": {},
   "outputs": [],
   "source": [
    "# train"
   ]
  },
  {
   "cell_type": "code",
   "execution_count": null,
   "id": "3109da7d-52e0-4414-beca-7da1279549e6",
   "metadata": {},
   "outputs": [],
   "source": [
    "# prediction"
   ]
  },
  {
   "cell_type": "code",
   "execution_count": null,
   "id": "10483e8b-a5d5-4075-80d9-b5a2a8d71ddd",
   "metadata": {},
   "outputs": [],
   "source": [
    "# performance metric"
   ]
  }
 ],
 "metadata": {
  "environment": {
   "kernel": "conda-env-tensorflow-tensorflow",
   "name": "workbench-notebooks.m123",
   "type": "gcloud",
   "uri": "us-docker.pkg.dev/deeplearning-platform-release/gcr.io/workbench-notebooks:m123"
  },
  "kernelspec": {
   "display_name": "TensorFlow 2-11 (Local)",
   "language": "python",
   "name": "conda-env-tensorflow-tensorflow"
  },
  "language_info": {
   "codemirror_mode": {
    "name": "ipython",
    "version": 3
   },
   "file_extension": ".py",
   "mimetype": "text/x-python",
   "name": "python",
   "nbconvert_exporter": "python",
   "pygments_lexer": "ipython3",
   "version": "3.10.14"
  }
 },
 "nbformat": 4,
 "nbformat_minor": 5
}

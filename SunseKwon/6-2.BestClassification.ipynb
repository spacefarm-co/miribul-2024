{
 "cells": [
  {
   "cell_type": "code",
   "execution_count": null,
   "id": "19f622d5-a608-40f0-96ac-fe08e0cf21a3",
   "metadata": {},
   "outputs": [],
   "source": [
    "# Best model Classification"
   ]
  },
  {
   "cell_type": "code",
   "execution_count": null,
   "id": "fd87e8e4-c7f2-4e3f-bd36-12da2bfeb42b",
   "metadata": {},
   "outputs": [],
   "source": [
    "# read dataset"
   ]
  },
  {
   "cell_type": "code",
   "execution_count": null,
   "id": "354fc4e9-13c0-4e5e-b22f-98f4dc650e3a",
   "metadata": {},
   "outputs": [],
   "source": [
    "# train test split"
   ]
  },
  {
   "cell_type": "code",
   "execution_count": null,
   "id": "d810283e-9d4d-4bf0-abfc-a2cac8d3e6a3",
   "metadata": {},
   "outputs": [],
   "source": [
    "# normalization"
   ]
  },
  {
   "cell_type": "code",
   "execution_count": null,
   "id": "22f76eab-2d67-468b-9d4c-875cd9a39b5c",
   "metadata": {},
   "outputs": [],
   "source": [
    "# x,y split"
   ]
  },
  {
   "cell_type": "code",
   "execution_count": null,
   "id": "eeacf781-e8a2-4938-bf89-196d575f7482",
   "metadata": {},
   "outputs": [],
   "source": [
    "# model"
   ]
  },
  {
   "cell_type": "code",
   "execution_count": null,
   "id": "e19c441f-771d-45fe-b909-0f3b6b646a4b",
   "metadata": {},
   "outputs": [],
   "source": [
    "# train"
   ]
  },
  {
   "cell_type": "code",
   "execution_count": null,
   "id": "2abd0506-32ae-41d9-8820-59d5d981d0c5",
   "metadata": {},
   "outputs": [],
   "source": [
    "# prediction"
   ]
  },
  {
   "cell_type": "code",
   "execution_count": null,
   "id": "a988c773-4657-4f3a-b451-00ad589dfeaa",
   "metadata": {},
   "outputs": [],
   "source": [
    "# performance metric"
   ]
  }
 ],
 "metadata": {
  "environment": {
   "kernel": "conda-env-tensorflow-tensorflow",
   "name": "workbench-notebooks.m123",
   "type": "gcloud",
   "uri": "us-docker.pkg.dev/deeplearning-platform-release/gcr.io/workbench-notebooks:m123"
  },
  "kernelspec": {
   "display_name": "TensorFlow 2-11 (Local)",
   "language": "python",
   "name": "conda-env-tensorflow-tensorflow"
  },
  "language_info": {
   "codemirror_mode": {
    "name": "ipython",
    "version": 3
   },
   "file_extension": ".py",
   "mimetype": "text/x-python",
   "name": "python",
   "nbconvert_exporter": "python",
   "pygments_lexer": "ipython3",
   "version": "3.10.14"
  }
 },
 "nbformat": 4,
 "nbformat_minor": 5
}

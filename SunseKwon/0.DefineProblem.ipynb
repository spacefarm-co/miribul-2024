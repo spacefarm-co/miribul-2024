{
 "cells": [
  {
   "cell_type": "markdown",
   "id": "c926161a-a889-4866-9795-75d875d05dbf",
   "metadata": {},
   "source": [
    "# 문제인식"
   ]
  },
  {
   "cell_type": "code",
   "execution_count": null,
   "id": "9345e1aa-5daa-4faf-a4e9-0a9f77b0ca43",
   "metadata": {},
   "outputs": [],
   "source": [
    "# 내,외부 환경, 생육*생장 등 각종 데이터를 활용하여, 최적의 딸기 재배모델 개발 \n",
    "# 환경데이터\n",
    "# 생육데이터\n",
    "\n",
    "# 딸기 재배모델 \n",
    "# 제공된 데이터 및 베이스라인을 활용, 성능 정확도가 가장 높은 AI모델 선발. \n",
    "# 2차에서 모델의 특장점 소개, 우리 모델의 특장점, 소개해야함. 그러므로 일반 모델로는 어필이 불가능함. 파운데이션 모델도 추가\n",
    "# 원격 작물재배 전략 발표해야함. 딸기 생육, 딸기 생장, 환경제어가 평가지표임. 그러므로 우리는 이걸 할 수 있는 모델을 개발해야함"
   ]
  },
  {
   "cell_type": "markdown",
   "id": "9f814c8f-993b-47be-b28c-ef09779b11d0",
   "metadata": {},
   "source": [
    "## 문제 정의"
   ]
  },
  {
   "cell_type": "markdown",
   "id": "d6efb379-ae76-476f-a465-558d6f5b327c",
   "metadata": {},
   "source": [
    "### regression"
   ]
  },
  {
   "cell_type": "code",
   "execution_count": null,
   "id": "9818dfdc-a551-4263-acf1-b3802283c635",
   "metadata": {},
   "outputs": [],
   "source": [
    "# X= \n",
    "# Y= "
   ]
  },
  {
   "cell_type": "markdown",
   "id": "9aedc462-0c8b-4c24-8053-f2d3e8ae3d7d",
   "metadata": {},
   "source": [
    "### classification"
   ]
  },
  {
   "cell_type": "code",
   "execution_count": null,
   "id": "e2fdaba0-9c7d-484d-96c6-0aa888c1f40b",
   "metadata": {},
   "outputs": [],
   "source": [
    "# X=\n",
    "# Y="
   ]
  },
  {
   "cell_type": "markdown",
   "id": "a56f4378-38ae-488a-b22f-ac6eea2937b6",
   "metadata": {},
   "source": [
    "### image classification"
   ]
  },
  {
   "cell_type": "code",
   "execution_count": null,
   "id": "b9a8f08d-c3b8-4801-8d14-3044191e4872",
   "metadata": {},
   "outputs": [],
   "source": [
    "# X=\n",
    "# Y="
   ]
  },
  {
   "cell_type": "markdown",
   "id": "e63d758f-fd11-4dd5-9555-2875db906f82",
   "metadata": {},
   "source": [
    "## 측정지표 정의"
   ]
  },
  {
   "cell_type": "markdown",
   "id": "9ea744b2-78f1-4f4b-be36-9bb908dab76d",
   "metadata": {},
   "source": [
    "### regression"
   ]
  },
  {
   "cell_type": "code",
   "execution_count": null,
   "id": "2cf7d7a3-66bb-46a0-bcb4-15ce9ce42beb",
   "metadata": {},
   "outputs": [],
   "source": [
    "# MSE\n",
    "# MAE\n",
    "# RMSE\n",
    "# R2"
   ]
  },
  {
   "cell_type": "markdown",
   "id": "8b5ddd71-869d-436a-ba18-383d17c6efe6",
   "metadata": {},
   "source": [
    "### classification"
   ]
  },
  {
   "cell_type": "code",
   "execution_count": null,
   "id": "98c9cb3e-9222-4570-956a-f6d0fa7dd6dd",
   "metadata": {},
   "outputs": [],
   "source": [
    "# accuracy\n",
    "# precision\n",
    "# recall\n",
    "# f1-score\n",
    "# confusion matrix\n",
    "# roc-auc curve"
   ]
  },
  {
   "cell_type": "markdown",
   "id": "8559b78c-fb4f-4388-9eea-78220d98c652",
   "metadata": {},
   "source": [
    "### image classification"
   ]
  },
  {
   "cell_type": "code",
   "execution_count": null,
   "id": "12ca292f-3c41-4f86-a223-8557269a4e32",
   "metadata": {},
   "outputs": [],
   "source": [
    "# accuracy\n",
    "# precision\n",
    "# recall\n",
    "# f1-score\n",
    "# confusion matrix\n",
    "# roc-auc curve"
   ]
  }
 ],
 "metadata": {
  "environment": {
   "kernel": "conda-env-tensorflow-tensorflow",
   "name": "workbench-notebooks.m123",
   "type": "gcloud",
   "uri": "us-docker.pkg.dev/deeplearning-platform-release/gcr.io/workbench-notebooks:m123"
  },
  "kernelspec": {
   "display_name": "TensorFlow 2-11 (Local)",
   "language": "python",
   "name": "conda-env-tensorflow-tensorflow"
  },
  "language_info": {
   "codemirror_mode": {
    "name": "ipython",
    "version": 3
   },
   "file_extension": ".py",
   "mimetype": "text/x-python",
   "name": "python",
   "nbconvert_exporter": "python",
   "pygments_lexer": "ipython3",
   "version": "3.10.14"
  }
 },
 "nbformat": 4,
 "nbformat_minor": 5
}

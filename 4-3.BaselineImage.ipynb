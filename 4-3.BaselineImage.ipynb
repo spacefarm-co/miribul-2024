{
 "cells": [
  {
   "cell_type": "markdown",
   "id": "3c4df9cb-1553-4273-9b06-2e5076d96fe1",
   "metadata": {},
   "source": [
    "# Baseline Image Classification"
   ]
  },
  {
   "cell_type": "markdown",
   "id": "f5f06d43-a600-4805-a3d1-2c28b5617b31",
   "metadata": {},
   "source": [
    "## train, validation, test split"
   ]
  },
  {
   "cell_type": "markdown",
   "id": "65cf3309-d098-40f5-b026-5d90cc56cd29",
   "metadata": {},
   "source": [
    "## normalization"
   ]
  },
  {
   "cell_type": "markdown",
   "id": "f6fd1f7f-2491-4d73-b6ae-eb10b2ee51a3",
   "metadata": {},
   "source": [
    "## x,y split"
   ]
  },
  {
   "cell_type": "markdown",
   "id": "3c8f47c9-b86a-49d8-8a41-d10115d01e69",
   "metadata": {},
   "source": [
    "## baseline model selection"
   ]
  },
  {
   "cell_type": "markdown",
   "id": "a58f1004-f867-4ba5-9bb7-0eed51e7aa4e",
   "metadata": {},
   "source": [
    "### CNN"
   ]
  },
  {
   "cell_type": "markdown",
   "id": "5fbc9da2-a7b0-42a1-8c57-1f74d1e4e7c7",
   "metadata": {},
   "source": [
    "### Inception"
   ]
  },
  {
   "cell_type": "markdown",
   "id": "aacbcd3a-7edc-4b79-948b-4215922930cd",
   "metadata": {},
   "source": [
    "### ResNet"
   ]
  },
  {
   "cell_type": "markdown",
   "id": "4bb73234-56a9-4466-8c1f-c81fef7a96e5",
   "metadata": {},
   "source": [
    "### YOLOv8 "
   ]
  },
  {
   "cell_type": "markdown",
   "id": "c889f866-8167-4601-a2d9-645d26c6b96f",
   "metadata": {},
   "source": [
    "## train"
   ]
  },
  {
   "cell_type": "markdown",
   "id": "a1abd955-cd2b-4b9b-b587-07d7cd303997",
   "metadata": {},
   "source": [
    "## prediction"
   ]
  },
  {
   "cell_type": "markdown",
   "id": "0d10dc77-4351-4d36-a852-aa352edf47ed",
   "metadata": {},
   "source": [
    "## performance metric"
   ]
  }
 ],
 "metadata": {
  "environment": {
   "kernel": "conda-env-tensorflow-tensorflow",
   "name": "workbench-notebooks.m123",
   "type": "gcloud",
   "uri": "us-docker.pkg.dev/deeplearning-platform-release/gcr.io/workbench-notebooks:m123"
  },
  "kernelspec": {
   "display_name": "TensorFlow 2-11 (Local)",
   "language": "python",
   "name": "conda-env-tensorflow-tensorflow"
  },
  "language_info": {
   "codemirror_mode": {
    "name": "ipython",
    "version": 3
   },
   "file_extension": ".py",
   "mimetype": "text/x-python",
   "name": "python",
   "nbconvert_exporter": "python",
   "pygments_lexer": "ipython3",
   "version": "3.10.14"
  }
 },
 "nbformat": 4,
 "nbformat_minor": 5
}

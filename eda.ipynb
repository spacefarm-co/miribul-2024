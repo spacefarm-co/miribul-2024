{
 "cells": [
  {
   "cell_type": "code",
   "execution_count": null,
   "metadata": {},
   "outputs": [],
   "source": [
    "import pandas as pd\n",
    "import numpy as np\n",
    "import matplotlib.pyplot as plt\n",
    "import seaborn as sns"
   ]
  },
  {
   "cell_type": "code",
   "execution_count": null,
   "metadata": {},
   "outputs": [],
   "source": [
    "\n",
    "# 데이터 로드\n",
    "# 'your_data.csv'를 실제 데이터 파일 경로로 변경하세요.\n",
    "data = pd.read_csv('miribul-2024-main/data/environmentsB.csv')\n",
    "data['datetime'] = pd.to_datetime(data['datetime'], format='%Y-%m-%d %H:%M')\n",
    "data = data.drop(['farm'], axis = 1)\n",
    "\n",
    "\n",
    "# 기본 정보 확인\n",
    "print(\"기본 정보:\")\n",
    "print(data.info())  # 데이터의 데이터 타입과 결측치 개수 제공\n",
    "print(\"\\n\")"
   ]
  },
  {
   "cell_type": "code",
   "execution_count": null,
   "metadata": {},
   "outputs": [],
   "source": [
    "# 기술 통계 확인\n",
    "print(\"기술 통계:\")\n",
    "print(data.describe(include='all'))  # 수치형 및 범주형 특성의 요약 통계량 제공\n",
    "print(\"\\n\")"
   ]
  },
  {
   "cell_type": "code",
   "execution_count": null,
   "metadata": {},
   "outputs": [],
   "source": [
    "# 결측치 확인\n",
    "print(\"결측치:\")\n",
    "print(data.isnull().sum())  # 각 열의 결측치 개수 확인\n",
    "print(\"\\n\")"
   ]
  },
  {
   "cell_type": "code",
   "execution_count": null,
   "metadata": {},
   "outputs": [],
   "source": [
    "# 데이터 타입 확인\n",
    "print(\"데이터 타입:\")\n",
    "print(data.dtypes)  # 각 열의 데이터 타입 확인\n",
    "print(\"\\n\")"
   ]
  },
  {
   "cell_type": "code",
   "execution_count": null,
   "metadata": {},
   "outputs": [],
   "source": [
    "# 범주형 열의 고유값 개수 확인\n",
    "print(\"범주형 열의 고유값 개수:\")\n",
    "categorical_columns = data.select_dtypes(include=['object']).columns\n",
    "for col in categorical_columns:\n",
    "    print(f\"{col}: {data[col].nunique()}개의 고유값\")\n",
    "\n",
    "print(\"\\n\")"
   ]
  },
  {
   "cell_type": "code",
   "execution_count": null,
   "metadata": {},
   "outputs": [],
   "source": [
    "\n",
    "# 수치형 열의 분포 확인\n",
    "print(\"수치형 열의 분포:\")\n",
    "numerical_columns = data.select_dtypes(include=[np.number]).columns\n",
    "for col in numerical_columns:\n",
    "    plt.figure(figsize=(10, 4))\n",
    "    sns.histplot(data[col], kde=True, bins=30)\n",
    "    plt.title(f'{col}의 분포')\n",
    "    plt.show()\n",
    "\n",
    "print(\"\\n\")"
   ]
  },
  {
   "cell_type": "code",
   "execution_count": null,
   "metadata": {},
   "outputs": [],
   "source": [
    "\n",
    "# 상관 행렬 및 히트맵\n",
    "print(\"상관 행렬 및 히트맵:\")\n",
    "correlation_matrix = data.corr()\n",
    "plt.figure(figsize=(12, 8))\n",
    "sns.heatmap(correlation_matrix, annot=True, cmap='coolwarm', fmt='.2f', vmin=-1, vmax=1)\n",
    "plt.title('HEATMAP')\n",
    "plt.show()\n",
    "\n",
    "print(\"\\n\")"
   ]
  },
  {
   "cell_type": "code",
   "execution_count": null,
   "metadata": {},
   "outputs": [],
   "source": [
    "# 수치형 특성의 페어플롯\n",
    "print(\"수치형 특성의 페어플롯:\")\n",
    "sns.pairplot(data[numerical_columns])\n",
    "plt.show()\n",
    "\n",
    "print(\"\\n\")"
   ]
  },
  {
   "cell_type": "code",
   "execution_count": null,
   "metadata": {},
   "outputs": [],
   "source": [
    "# 수치형 열의 박스플롯 (이상치 탐지)\n",
    "print(\"수치형 열의 박스플롯:\")\n",
    "for col in numerical_columns:\n",
    "    plt.figure(figsize=(10, 4))\n",
    "    sns.boxplot(x=data[col])\n",
    "    plt.title(f'{col} Box Plot')\n",
    "    plt.show()\n",
    "\n",
    "print(\"\\n\")"
   ]
  },
  {
   "cell_type": "code",
   "execution_count": null,
   "metadata": {},
   "outputs": [],
   "source": [
    "# 범주형 열의 값 카운트\n",
    "print(\"범주형 열의 값 카운트:\")\n",
    "categorical_columns = data.select_dtypes(include=['object']).columns\n",
    "for col in categorical_columns:\n",
    "    print(f\"\\n{col}의 값 카운트:\")\n",
    "    print(data[col].value_counts())"
   ]
  },
  {
   "cell_type": "code",
   "execution_count": null,
   "metadata": {},
   "outputs": [],
   "source": [
    "import pandas as pd\n",
    "import seaborn as sns\n",
    "import matplotlib.pyplot as plt\n",
    "\n",
    "# 예시 데이터프레임 생성\n",
    "df = data\n",
    "\n",
    "# 상관계수 계산\n",
    "corr_matrix = df.corr()\n",
    "\n",
    "# 타겟 열과 다른 피처들 간의 상관관계를 추출\n",
    "target_corr = corr_matrix['innerSolar']\n",
    "\n",
    "# 타겟과의 상관계수를 내림차순으로 정렬\n",
    "target_corr_sorted = target_corr.sort_values(ascending=False)\n",
    "\n",
    "# 결과를 데이터프레임으로 변환\n",
    "df_temp = pd.DataFrame(target_corr_sorted, columns=['innerSolar'])\n",
    "\n",
    "# 히트맵 시각화\n",
    "plt.figure(figsize=(10, 8))  # 그림 크기 설정\n",
    "sns.heatmap(df_temp, annot=True, cmap='viridis', center=0, vmin=-1, vmax=1, fmt='.2f')\n",
    "plt.title('TARGET HEAT MAP')\n",
    "plt.show()"
   ]
  },
  {
   "cell_type": "code",
   "execution_count": null,
   "metadata": {},
   "outputs": [],
   "source": []
  }
 ],
 "metadata": {
  "kernelspec": {
   "display_name": "base",
   "language": "python",
   "name": "python3"
  },
  "language_info": {
   "codemirror_mode": {
    "name": "ipython",
    "version": 3
   },
   "file_extension": ".py",
   "mimetype": "text/x-python",
   "name": "python",
   "nbconvert_exporter": "python",
   "pygments_lexer": "ipython3",
   "version": "3.11.5"
  }
 },
 "nbformat": 4,
 "nbformat_minor": 2
}

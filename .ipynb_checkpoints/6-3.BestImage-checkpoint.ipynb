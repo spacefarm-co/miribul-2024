{
 "cells": [
  {
   "cell_type": "code",
   "execution_count": null,
   "id": "fd0e8c63-b371-4a0c-bab5-1adf73ad864e",
   "metadata": {},
   "outputs": [],
   "source": [
    "# best model for image classification"
   ]
  },
  {
   "cell_type": "code",
   "execution_count": null,
   "id": "d956582d-a5bb-4149-870c-06298cf73f02",
   "metadata": {},
   "outputs": [],
   "source": [
    "# read data"
   ]
  },
  {
   "cell_type": "code",
   "execution_count": null,
   "id": "6adc4c25-fbc7-4a75-8a39-1b494f855be6",
   "metadata": {},
   "outputs": [],
   "source": [
    "# train, vallidation, test split"
   ]
  },
  {
   "cell_type": "code",
   "execution_count": null,
   "id": "867e6adc-7234-4320-a2cc-8c70ba071b84",
   "metadata": {},
   "outputs": [],
   "source": [
    "# normalization"
   ]
  },
  {
   "cell_type": "code",
   "execution_count": null,
   "id": "9907363f-b808-44c8-8214-2303378508db",
   "metadata": {},
   "outputs": [],
   "source": [
    "# x,y split"
   ]
  },
  {
   "cell_type": "code",
   "execution_count": null,
   "id": "170747b3-a2b7-4db7-964d-e9625a39f6b1",
   "metadata": {},
   "outputs": [],
   "source": [
    "# model"
   ]
  },
  {
   "cell_type": "code",
   "execution_count": null,
   "id": "7a15f499-c34c-4cea-a9d1-d19def0040d5",
   "metadata": {},
   "outputs": [],
   "source": [
    "# train"
   ]
  },
  {
   "cell_type": "code",
   "execution_count": null,
   "id": "ee7a85e6-1eb6-4ec2-ba5f-c8ae29108e5b",
   "metadata": {},
   "outputs": [],
   "source": [
    "# prediction"
   ]
  },
  {
   "cell_type": "code",
   "execution_count": null,
   "id": "73f73132-9706-49ce-be05-4aefff107fdd",
   "metadata": {},
   "outputs": [],
   "source": [
    "# performance metric"
   ]
  }
 ],
 "metadata": {
  "environment": {
   "kernel": "conda-env-tensorflow-tensorflow",
   "name": "workbench-notebooks.m123",
   "type": "gcloud",
   "uri": "us-docker.pkg.dev/deeplearning-platform-release/gcr.io/workbench-notebooks:m123"
  },
  "kernelspec": {
   "display_name": "TensorFlow 2-11 (Local)",
   "language": "python",
   "name": "conda-env-tensorflow-tensorflow"
  },
  "language_info": {
   "codemirror_mode": {
    "name": "ipython",
    "version": 3
   },
   "file_extension": ".py",
   "mimetype": "text/x-python",
   "name": "python",
   "nbconvert_exporter": "python",
   "pygments_lexer": "ipython3",
   "version": "3.10.14"
  }
 },
 "nbformat": 4,
 "nbformat_minor": 5
}

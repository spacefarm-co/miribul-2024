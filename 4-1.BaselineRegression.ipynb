{
 "cells": [
  {
   "cell_type": "markdown",
   "id": "0d2e7dad-6b68-47bd-9b23-eb3f6c5edbf5",
   "metadata": {},
   "source": [
    "# Baseline Regression"
   ]
  },
  {
   "cell_type": "markdown",
   "id": "77275b20-1475-4be2-9ba0-4d1534e5b28a",
   "metadata": {},
   "source": [
    "## train, validation, test split"
   ]
  },
  {
   "cell_type": "markdown",
   "id": "69e3c3cb-7cf1-4f55-85dd-e1e2dbdc5441",
   "metadata": {},
   "source": [
    "## normalization"
   ]
  },
  {
   "cell_type": "markdown",
   "id": "d649d8f8-fc72-4dcf-880c-01c9ee067f23",
   "metadata": {},
   "source": [
    "## x,y split"
   ]
  },
  {
   "cell_type": "markdown",
   "id": "b1aefa6a-ce34-461b-a7ed-5ed254215de5",
   "metadata": {},
   "source": [
    "## baseline model selection"
   ]
  },
  {
   "cell_type": "markdown",
   "id": "8593af98-6593-4d4f-a0d2-ef10d75dd50b",
   "metadata": {},
   "source": [
    "### linear regression"
   ]
  },
  {
   "cell_type": "markdown",
   "id": "caa5ef3c-a37e-4391-ad06-ba9be80bb264",
   "metadata": {},
   "source": [
    "### Bagging Regressor"
   ]
  },
  {
   "cell_type": "markdown",
   "id": "2ffda451-86ae-4b85-9f99-2b98faf64929",
   "metadata": {},
   "source": [
    "### randomforest regressor"
   ]
  },
  {
   "cell_type": "markdown",
   "id": "8707597a-6b4e-4a1d-a9af-50e3597e32d4",
   "metadata": {},
   "source": [
    "### xgboost regressor"
   ]
  },
  {
   "cell_type": "markdown",
   "id": "9022122d-fb68-4c92-b3c8-11f42e7dfa6b",
   "metadata": {},
   "source": [
    "### ANN"
   ]
  },
  {
   "cell_type": "markdown",
   "id": "82df7756-1b3e-4687-b845-1c9a6ff22156",
   "metadata": {},
   "source": [
    "### RNN"
   ]
  },
  {
   "cell_type": "markdown",
   "id": "2e11a598-e628-4a88-8ff4-7beb1e94dc58",
   "metadata": {},
   "source": [
    "### LSTM"
   ]
  },
  {
   "cell_type": "markdown",
   "id": "5d01a0bd-5f2b-4377-8515-fbd67fd4163d",
   "metadata": {},
   "source": [
    "### GRU"
   ]
  },
  {
   "cell_type": "markdown",
   "id": "c36c8c1c-f2d3-4c2c-82db-8a51ca6110ff",
   "metadata": {},
   "source": [
    "## train"
   ]
  },
  {
   "cell_type": "markdown",
   "id": "19440968-f75c-4504-abbe-ed8ecd0a508c",
   "metadata": {},
   "source": [
    "## prediction"
   ]
  },
  {
   "cell_type": "markdown",
   "id": "2100784a-229b-418e-8524-764f5f61d78e",
   "metadata": {},
   "source": [
    "## performance metric"
   ]
  },
  {
   "cell_type": "code",
   "execution_count": null,
   "id": "31b26a0e-0d80-4b66-a159-2167745cdef8",
   "metadata": {},
   "outputs": [],
   "source": []
  }
 ],
 "metadata": {
  "environment": {
   "kernel": "conda-env-tensorflow-tensorflow",
   "name": "workbench-notebooks.m123",
   "type": "gcloud",
   "uri": "us-docker.pkg.dev/deeplearning-platform-release/gcr.io/workbench-notebooks:m123"
  },
  "kernelspec": {
   "display_name": "TensorFlow 2-11 (Local)",
   "language": "python",
   "name": "conda-env-tensorflow-tensorflow"
  },
  "language_info": {
   "codemirror_mode": {
    "name": "ipython",
    "version": 3
   },
   "file_extension": ".py",
   "mimetype": "text/x-python",
   "name": "python",
   "nbconvert_exporter": "python",
   "pygments_lexer": "ipython3",
   "version": "3.10.14"
  }
 },
 "nbformat": 4,
 "nbformat_minor": 5
}
